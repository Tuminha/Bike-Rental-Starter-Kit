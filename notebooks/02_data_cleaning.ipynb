{
  "cells": [
    {
      "cell_type": "markdown",
      "metadata": {},
      "source": [
        "# 🧹 Bike Rental Analytics - Phase 2: Data Cleaning & Validation\n",
        "\n",
        "## Project Overview\n",
        "This notebook focuses on cleaning and validating the Citi Bike and weather data identified in Phase 1, preparing it for database implementation.\n",
        "\n",
        "## Phase 2 Objectives\n",
        "- Handle missing data strategically\n",
        "- Filter extreme outliers in trip durations\n",
        "- Standardize data formats and types\n",
        "- Validate data quality and business rules\n",
        "- Prepare clean datasets for database loading\n",
        "\n",
        "---\n"
      ]
    },
    {
      "cell_type": "markdown",
      "metadata": {},
      "source": [
        "## 📦 Import Libraries & Load Data\n"
      ]
    },
    {
      "cell_type": "code",
      "execution_count": null,
      "metadata": {},
      "outputs": [],
      "source": [
        "# TODO: Import necessary libraries and load your cleaned data from Phase 1\n",
        "# Hint: Import pandas, numpy, matplotlib, seaborn, pathlib, warnings\n",
        "# Load both the concatenated Citi Bike data and weather data\n",
        "# You can copy the loading code from your Phase 1 notebook\n",
        "\n",
        "# Your code here:\n"
      ]
    },
    {
      "cell_type": "markdown",
      "metadata": {},
      "source": [
        "## 🚨 Handle Trip Duration Outliers\n",
        "\n",
        "From Phase 1, we discovered extreme trip durations (some > 100 days!). Let's analyze and filter these outliers.\n"
      ]
    },
    {
      "cell_type": "code",
      "execution_count": null,
      "metadata": {},
      "outputs": [],
      "source": [
        "# TODO: Analyze trip duration distribution\n",
        "# Hint: Use .describe() and create a histogram\n",
        "# What's a reasonable maximum trip duration? (think: bike rentals are typically minutes/hours, not days)\n",
        "# Consider: What might cause trips > 24 hours?\n",
        "\n",
        "# Your code here:\n"
      ]
    },
    {
      "cell_type": "code",
      "execution_count": null,
      "metadata": {},
      "outputs": [],
      "source": [
        "# TODO: Define and apply trip duration filters\n",
        "# Hint: Set reasonable bounds (e.g., 60 seconds to 24 hours)\n",
        "# Use boolean indexing to filter: df[(df['column'] >= min) & (df['column'] <= max)]\n",
        "# Print how many records you're removing and why\n",
        "\n",
        "# Your code here:\n"
      ]
    },
    {
      "cell_type": "markdown",
      "metadata": {},
      "source": [
        "## 🔧 Handle Missing Data\n",
        "\n",
        "Now let's address the missing data issues identified in Phase 1.\n"
      ]
    },
    {
      "cell_type": "code",
      "execution_count": null,
      "metadata": {},
      "outputs": [],
      "source": [
        "# TODO: Handle missing Birth Year data (7.67% missing)\n",
        "# Hint: Options include: drop rows, impute with median/mode, or create \"Unknown\" category\n",
        "# Think: Is birth year critical for analysis? What's the best approach?\n",
        "# Use .fillna() or .dropna() methods\n",
        "\n",
        "# Your code here:\n"
      ]
    },
    {
      "cell_type": "code",
      "execution_count": null,
      "metadata": {},
      "outputs": [],
      "source": [
        "# TODO: Handle missing User Type data (0.15% missing)\n",
        "# Hint: This is a small percentage - consider dropping these rows\n",
        "# Or investigate if there's a pattern to missing User Type\n",
        "\n",
        "# Your code here:\n"
      ]
    },
    {
      "cell_type": "code",
      "execution_count": null,
      "metadata": {},
      "outputs": [],
      "source": [
        "# TODO: Handle missing weather data\n",
        "# Hint: PGTM and TSUN are 100% missing - consider dropping these columns\n",
        "# WDF5 and WSF5 have minimal missing data - decide on strategy\n",
        "# Use .drop() for columns or .fillna() for missing values\n",
        "\n",
        "# Your code here:\n"
      ]
    },
    {
      "cell_type": "markdown",
      "metadata": {},
      "source": [
        "## 📅 Standardize Date/Time Formats\n",
        "\n",
        "Let's ensure all date/time data is properly formatted for database storage.\n"
      ]
    },
    {
      "cell_type": "code",
      "execution_count": null,
      "metadata": {},
      "outputs": [],
      "source": [
        "# TODO: Convert date/time columns to proper datetime format\n",
        "# Hint: Use pd.to_datetime() for 'Start Time', 'Stop Time', and 'DATE' columns\n",
        "# Consider timezone handling - are these EST/EDT times?\n",
        "# Create separate date and time columns if needed for analysis\n",
        "\n",
        "# Your code here:\n"
      ]
    },
    {
      "cell_type": "markdown",
      "metadata": {},
      "source": [
        "## 🏷️ Create Derived Features\n",
        "\n",
        "Let's add useful features for analytics.\n"
      ]
    },
    {
      "cell_type": "code",
      "execution_count": null,
      "metadata": {},
      "outputs": [],
      "source": [
        "# TODO: Create derived features for Citi Bike data\n",
        "# Hint: Add columns for:\n",
        "# - Day of week (Monday=0, Sunday=6)\n",
        "# - Hour of day (0-23)\n",
        "# - Trip duration in minutes\n",
        "# - Age (calculated from birth year)\n",
        "# Use .dt.dayofweek, .dt.hour, and arithmetic operations\n",
        "\n",
        "# Your code here:\n"
      ]
    },
    {
      "cell_type": "code",
      "execution_count": null,
      "metadata": {},
      "outputs": [],
      "source": [
        "# TODO: Create derived features for weather data\n",
        "# Hint: Add columns for:\n",
        "# - Day of week\n",
        "# - Month\n",
        "# - Season (Winter, Spring, Summer, Fall)\n",
        "# - Weather categories (e.g., \"Hot\" if TAVG > 80, \"Cold\" if TAVG < 40)\n",
        "# Use .dt.dayofweek, .dt.month, and conditional logic\n",
        "\n",
        "# Your code here:\n"
      ]
    },
    {
      "cell_type": "markdown",
      "metadata": {},
      "source": [
        "## ✅ Data Quality Validation\n",
        "\n",
        "Let's validate our cleaned data and check for any remaining issues.\n"
      ]
    },
    {
      "cell_type": "code",
      "execution_count": null,
      "metadata": {},
      "outputs": [],
      "source": [
        "# TODO: Validate cleaned data\n",
        "# Hint: Check for:\n",
        "# - Remaining missing values\n",
        "# - Data type consistency\n",
        "# - Reasonable value ranges\n",
        "# - Duplicate records\n",
        "# Print summary statistics and any issues found\n",
        "\n",
        "# Your code here:\n"
      ]
    },
    {
      "cell_type": "code",
      "execution_count": null,
      "metadata": {},
      "outputs": [],
      "source": [
        "# TODO: Save cleaned datasets\n",
        "# Hint: Save your cleaned DataFrames to CSV files in a 'processed' folder\n",
        "# Use .to_csv() method\n",
        "# Consider naming: 'citibike_cleaned.csv' and 'weather_cleaned.csv'\n",
        "\n",
        "# Your code here:\n"
      ]
    },
    {
      "cell_type": "markdown",
      "metadata": {},
      "source": [
        "## 📝 Phase 2 Summary\n",
        "\n",
        "### Document Your Cleaning Decisions:\n",
        "1. **Trip Duration Filtering**: \n",
        "   - Minimum duration: ___ seconds\n",
        "   - Maximum duration: ___ seconds\n",
        "   - Records removed: ___\n",
        "   - Reasoning: ___\n",
        "\n",
        "2. **Missing Data Handling**:\n",
        "   - Birth Year: ___ (strategy used)\n",
        "   - User Type: ___ (strategy used)\n",
        "   - Weather columns: ___ (strategy used)\n",
        "\n",
        "3. **Derived Features Created**:\n",
        "   - Citi Bike: ___\n",
        "   - Weather: ___\n",
        "\n",
        "4. **Data Quality Issues Resolved**:\n",
        "   - [ ] Trip duration outliers\n",
        "   - [ ] Missing birth year data\n",
        "   - [ ] Missing user type data\n",
        "   - [ ] Missing weather data\n",
        "   - [ ] Date/time formatting\n",
        "   - [ ] Data type consistency\n",
        "\n",
        "### Next Steps:\n",
        "- [x] Complete Phase 2 data cleaning\n",
        "- [ ] Move to Phase 3: Database Schema Design\n",
        "- [ ] Design table structures and relationships\n",
        "- [ ] Create ER diagram\n",
        "\n",
        "---\n",
        "\n",
        "**Great work!** Your data is now clean and ready for database implementation. Document your decisions for the portfolio!\n"
      ]
    }
  ],
  "metadata": {
    "language_info": {
      "name": "python"
    }
  },
  "nbformat": 4,
  "nbformat_minor": 2
}
